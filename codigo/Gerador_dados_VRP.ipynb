{
  "nbformat": 4,
  "nbformat_minor": 0,
  "metadata": {
    "colab": {
      "name": "Gerador_dados_VRP.ipynb",
      "provenance": [],
      "collapsed_sections": [
        "penMoJlE4L0U"
      ],
      "toc_visible": true
    },
    "kernelspec": {
      "name": "python3",
      "display_name": "Python 3"
    },
    "accelerator": "GPU"
  },
  "cells": [
    {
      "cell_type": "code",
      "metadata": {
        "id": "EBhAvRRjrrbk"
      },
      "source": [
        "import numpy as np\n",
        "import matplotlib.pyplot as plt\n",
        "import itertools\n",
        "import time\n",
        "import pandas as pd\n"
      ],
      "execution_count": null,
      "outputs": []
    },
    {
      "cell_type": "code",
      "metadata": {
        "id": "9L-W65Cksiv9"
      },
      "source": [
        "# Cria semente para numeros randomicos\n",
        "rnd = np.random\n",
        "rnd.seed(0)"
      ],
      "execution_count": null,
      "outputs": []
    },
    {
      "cell_type": "code",
      "metadata": {
        "id": "X23tGVHwtFjZ"
      },
      "source": [
        "#Parametro que define a quantidade de clientes\n",
        "quantidade_clientes =  7 # numero de clientes"
      ],
      "execution_count": null,
      "outputs": []
    },
    {
      "cell_type": "code",
      "metadata": {
        "id": "7weWvmZStpUP"
      },
      "source": [
        "# Define o ponto dos clientes com base na quantidade - O deposito será acrescentado posteriormente, e será convencionado como ponto 1\n",
        "Clientes = [i for i in range(2, quantidade_clientes + 2)]\n",
        "Clientes"
      ],
      "execution_count": null,
      "outputs": []
    },
    {
      "cell_type": "code",
      "metadata": {
        "id": "9R4cNsSW-kwL"
      },
      "source": [
        "# Define todos os pontos do modelo, acrescentado o deposito como primeiro ponto\n",
        "Pontos = [1] + Clientes\n",
        "Pontos"
      ],
      "execution_count": null,
      "outputs": []
    },
    {
      "cell_type": "code",
      "metadata": {
        "id": "bsrO0NCS-kDC"
      },
      "source": [
        "# Traça todos os arcos possiveis para representar os caminhos possiveis entre dois pontos distintos\n",
        "Caminhos = [(i,j) for i in Pontos for j in Pontos if i!=j]\n",
        "print('Quantidade: ' + str(len(Caminhos)))\n",
        "Caminhos"
      ],
      "execution_count": null,
      "outputs": []
    },
    {
      "cell_type": "code",
      "metadata": {
        "id": "iRczivEfqPZb"
      },
      "source": [
        "# Definindo os veículos do modelo\n",
        "Veiculos = [1,2]\n",
        "Veiculos"
      ],
      "execution_count": null,
      "outputs": []
    },
    {
      "cell_type": "code",
      "metadata": {
        "id": "hnZbVrM4-jui"
      },
      "source": [
        "# Os Arcos associados com os custos. Para esta implementação estamos abstraindo que a unica variavel envolvida é a distancia\n",
        "custo ={(i, j): { 'c':rnd.randint(quantidade_clientes)+i+j } for i, j in Caminhos}\n",
        "print('Quantidade: ' + str(len(custo)))\n",
        "custo"
      ],
      "execution_count": null,
      "outputs": []
    },
    {
      "cell_type": "code",
      "metadata": {
        "id": "cPs8HPdryCgA"
      },
      "source": [
        "# Inicio da medição do tempo de CPU utilizado\n",
        "inicio  = time.process_time()"
      ],
      "execution_count": null,
      "outputs": []
    },
    {
      "cell_type": "code",
      "metadata": {
        "id": "Xzd6pIBAfp2X"
      },
      "source": [
        "# Definindo todas a rotas possiveis\n",
        "# retorna todas a permutacoes de rotas possiveis partindo do primeiro elemento que é o deposito\n",
        "# Acrescentamos o deposito no final para ajudar no calculo do retorno (Ex. pegar o valor de (4,1))\n",
        "# Neste momento já montamos as rotas atendendo a premissa que a mesma rota não passa no mesmo cliente duas vezes\n",
        "# Também evitamos a criação de subrotas\n",
        "def todas_rotas(seq, quantidade):\n",
        "  #permuta todas a opcoes com base na quantidade de destinos desejados. Fixamos o primeiro item como deposito de chegada e saida\n",
        "  return [[seq[0]] + list(rest) + [seq[0]] for rest in itertools.permutations(seq[1:],quantidade)]\n",
        "contador = 1\n",
        "Rotas = []\n",
        "#repito as permutacoes aumentando a quantidade de itens envolvidos\n",
        "while (contador < len(Pontos)):\n",
        "  Rotas = Rotas + todas_rotas(Pontos,contador) \n",
        "  contador   = contador + 1\n",
        "print('Quantidade: ' + str(len(Rotas)))\n",
        "Rotas"
      ],
      "execution_count": null,
      "outputs": []
    },
    {
      "cell_type": "code",
      "metadata": {
        "id": "7VaK-EKLjVJi"
      },
      "source": [
        "# Calculando o custo de cada rota\n",
        "# Recuperamos cada rota. De cada rota recuperamos o custo de cada trecho, somamos os trechos\n",
        "# de forma a encontrar o custo total da rota\n",
        "# o resultado vai para um dicionario que tem a rota e a somatoria dos trechos.\n",
        "\n",
        "def custo_do_trecho(i, j):\n",
        "\n",
        "    try:\n",
        "        custo.get((i, j)).get('c')\n",
        "    except AttributeError:\n",
        "        result = 0\n",
        "    else:\n",
        "        result = custo.get((i, j)).get('c')\n",
        "    return result\n",
        "\n",
        "\n",
        "def custo_da_rota(rota):\n",
        "    resultado = 0\n",
        "\n",
        "    for i in range(0,len(rota)-1):\n",
        "        resultado = resultado + custo_do_trecho(rota[i], rota[i + 1])\n",
        "    return resultado\n",
        "\n",
        "lista_custos={}\n",
        "i=0\n",
        "for rota in Rotas:\n",
        "    curso_rota = custo_da_rota(rota)\n",
        "    lista_custos[i]=(rota,curso_rota)\n",
        "    i = i +1 \n",
        "print('Quantidade: ' + str(len(lista_custos)))\n",
        " \n",
        "lista_custos"
      ],
      "execution_count": null,
      "outputs": []
    },
    {
      "cell_type": "code",
      "metadata": {
        "id": "GD9uRrSB26_y"
      },
      "source": [
        "# Filtragem da premissa que um cliente não pode ser atendido mais de uma vez\n",
        "def verificaSeClienteAtendidoApenasUmaVez(rota_para_restricao):\n",
        "  inclui_rota = True\n",
        "  lista_rotas_temp = rota_para_restricao[0][0]+rota_para_restricao[1][0]\n",
        "  for cliente in Clientes:\n",
        "    if(lista_rotas_temp.count(cliente)>1):\n",
        "        inclui_rota = False\n",
        "        break;\n",
        "  return inclui_rota\n"
      ],
      "execution_count": null,
      "outputs": []
    },
    {
      "cell_type": "code",
      "metadata": {
        "id": "KCovYAFJRo-q"
      },
      "source": [
        "# Filtragem da premissa que todos os clientes devem ser atendidos\n",
        "def verificaSeTodosOsPontosAtendidos(rota_para_restricao):\n",
        "  inclui_rota = True\n",
        "  lista_rotas_temp = rota_para_restricao[0][0]+rota_para_restricao[1][0]\n",
        "  for cliente in Clientes:\n",
        "    if(lista_rotas_temp.count(cliente)==0):\n",
        "        inclui_rota = False\n",
        "        break;\n",
        "  return inclui_rota"
      ],
      "execution_count": null,
      "outputs": []
    },
    {
      "cell_type": "code",
      "metadata": {
        "id": "r-5OwsE7btj-"
      },
      "source": [
        "# Cruza todas as rotas possiveis para os dois veiculos\n",
        "# Convencionamos que a primeira rota para veiculo 1 e a segunda para o veiculo 2\n",
        "# aplicando verificas para futuramente calcular apenas as rotas que nao desobedecem \n",
        "# alguma das premissas: Cliente atendido apenas uma vez e todos os clientes atendidos\n",
        "lista_rotas_combinada={}\n",
        "i=0\n",
        "for rota_combinada in itertools.combinations(lista_custos.values(),2):\n",
        "  if(verificaSeClienteAtendidoApenasUmaVez(rota_combinada) and verificaSeTodosOsPontosAtendidos(rota_combinada)):\n",
        "    lista_rotas_combinada[i] = rota_combinada\n",
        "  i = i+1\n",
        "print('Quantidade: ' + str(len(lista_rotas_combinada)))\n",
        "lista_rotas_combinada"
      ],
      "execution_count": null,
      "outputs": []
    },
    {
      "cell_type": "code",
      "metadata": {
        "id": "oITVUHl0x-to"
      },
      "source": [
        "#Calcula o custo total da combinação das duas rotas\n",
        "# é somado o custo de cada rota e armazenado o valor total\n",
        "lista_rotas_combinada_custo={}\n",
        "i=0\n",
        "for rota_para_calculo in lista_rotas_combinada.values():\n",
        "  lista_rotas_combinada_custo[i]= (rota_para_calculo,rota_para_calculo[0][1]+rota_para_calculo[1][1])\n",
        "  i = i+1\n",
        "print('Quantidade: ' + str(len(lista_rotas_combinada_custo)))\n",
        "lista_rotas_combinada_custo"
      ],
      "execution_count": null,
      "outputs": []
    },
    {
      "cell_type": "code",
      "metadata": {
        "id": "7ZUOe2VmOpzR"
      },
      "source": [
        "rotas_resultantes = pd.DataFrame.from_dict(lista_rotas_combinada_custo.values())\n",
        "  \n",
        "rotas_resultantes "
      ],
      "execution_count": null,
      "outputs": []
    },
    {
      "cell_type": "code",
      "metadata": {
        "id": "4OqF-Yj6QD1t"
      },
      "source": [
        "from google.colab import drive\n",
        "drive.mount('/content/drive')"
      ],
      "execution_count": null,
      "outputs": []
    },
    {
      "cell_type": "code",
      "metadata": {
        "id": "CcanxYV_QYaO"
      },
      "source": [
        "rotas_resultantes_csv  = rotas_resultantes.to_csv('/content/drive/MyDrive/DADOS_VRP/DATASET/VRP_TESTE3.csv',sep=';',index_label='index',header=['trechos','custo'])\n",
        "rotas_resultantes_csv "
      ],
      "execution_count": null,
      "outputs": []
    }
  ]
}