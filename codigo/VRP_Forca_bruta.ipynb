{
  "nbformat": 4,
  "nbformat_minor": 0,
  "metadata": {
    "accelerator": "GPU",
    "colab": {
      "name": "Forca_bruta_versao_dataset_versao2.ipynb",
      "provenance": [],
      "collapsed_sections": [
        "penMoJlE4L0U"
      ],
      "toc_visible": true
    },
    "kernelspec": {
      "display_name": "Python 3",
      "name": "python3"
    }
  },
  "cells": [
    {
      "cell_type": "markdown",
      "metadata": {
        "id": "NAdzSwIyFX4Q"
      },
      "source": [
        "## **VRP - Vehicle routing problem**\n",
        "\n",
        "   O Vehicle routing problem (VRP) é um dos mais estudados problemas na área da otimização combinatória. Consiste no atendimento de um conjunto de consumidores por intermédio de uma frota de veículos, que partem de um ou mais pontos denominados depósitos.  O principal objetivo é minimizar os custo de transporte das mercadorias para os consumidores. \n",
        "Este problema apresenta uma quantidade enorme de variações, baseadas na carga dos veiculos, janela de tempo, demanda dos clientes,dentre outras.\n",
        "\n",
        "   O VRP, apesar do seu enunciado relativamente simples, apresenta elevada complexidade computacional, devido a quantidade de combinações geradas conforme se aumenta a quantidade valores e variaveis envolvidas pelo que é interessante como problema no teste de diversas heurísticas.\n",
        "\n",
        "Esta implementação é um algoritmo de força bruta que calcula todas as combições possiveis de rotas com os seu respectivo custo, de forma identifica a rota de menor custos. Basicamente forma observadas as seguinte premissas:\n",
        "\n",
        "1.   Todos as entregas partem de apenas um deposito;\n",
        "2.   Apenas dois veiculos envolvidos;\n",
        "3.   Todos os veiculo partem do deposito e devem concluir a rota no mesmo;\n",
        "4.   Cada cliente só pode ser visitado uma vez;\n",
        "5.   Todos os clientes devem ser visitados;\n",
        "6.   Todos os veiculo devem sair para realizar entregas.\n",
        "\n",
        "Esta implementação busca implementar o VRP Classico, de forma que não estão implementadas restrição que geram variações do modelo. Restrições como capacidade dos veiculos, demanda dos clientes, limites de tempo e precedência de atendimento dos clientes, não estão sendo consideradas.\n",
        "\n",
        "Segue a Função Objetivo:\n",
        "\n",
        "![image.png](data:image/png;base64,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)"
      ]
    },
    {
      "cell_type": "code",
      "metadata": {
        "id": "EBhAvRRjrrbk"
      },
      "source": [
        "import numpy as np\n",
        "import matplotlib.pyplot as plt\n",
        "import itertools\n",
        "import time\n",
        "import pandas as pd"
      ],
      "execution_count": null,
      "outputs": []
    },
    {
      "cell_type": "code",
      "metadata": {
        "id": "8Jx6VIMc1kpj"
      },
      "source": [
        "from google.colab import drive\n",
        "drive.mount('/content/drive')"
      ],
      "execution_count": null,
      "outputs": []
    },
    {
      "cell_type": "code",
      "metadata": {
        "id": "9L-W65Cksiv9"
      },
      "source": [
        "# Cria semente para numeros randomicos\n",
        "rnd = np.random\n",
        "rnd.seed(0)"
      ],
      "execution_count": null,
      "outputs": []
    },
    {
      "cell_type": "code",
      "metadata": {
        "id": "X23tGVHwtFjZ"
      },
      "source": [
        "#Parametro que define a quantidade de clientes\n",
        "quantidade_clientes =  7 # numero de clientes"
      ],
      "execution_count": null,
      "outputs": []
    },
    {
      "cell_type": "code",
      "metadata": {
        "id": "7weWvmZStpUP"
      },
      "source": [
        "# Define o ponto dos clientes com base na quantidade - O deposito será acrescentado posteriormente, e será convencionado como ponto 1\n",
        "Clientes = [i for i in range(2, quantidade_clientes + 2)]\n",
        "Clientes"
      ],
      "execution_count": null,
      "outputs": []
    },
    {
      "cell_type": "code",
      "metadata": {
        "id": "9R4cNsSW-kwL"
      },
      "source": [
        "# Define todos os pontos do modelo, acrescentado o deposito como primeiro ponto\n",
        "Pontos = [1] + Clientes\n",
        "Pontos"
      ],
      "execution_count": null,
      "outputs": []
    },
    {
      "cell_type": "code",
      "metadata": {
        "id": "bsrO0NCS-kDC"
      },
      "source": [
        "# Traça todos os arcos possiveis para representar os caminhos possiveis entre dois pontos distintos\n",
        "Caminhos = [(i,j) for i in Pontos for j in Pontos if i!=j]\n",
        "print('Quantidade: ' + str(len(Caminhos)))\n",
        "Caminhos"
      ],
      "execution_count": null,
      "outputs": []
    },
    {
      "cell_type": "code",
      "metadata": {
        "id": "iRczivEfqPZb"
      },
      "source": [
        "# Definindo os veículos do modelo\n",
        "Veiculos = [1,2]\n",
        "Veiculos"
      ],
      "execution_count": null,
      "outputs": []
    },
    {
      "cell_type": "code",
      "metadata": {
        "id": "Q9Vv6oOmIx-z"
      },
      "source": [
        "dataset = pd.read_csv('/content/drive/MyDrive/DADOS_VRP/DATASET/VRP_TRECHO_TESTE1.csv',delimiter=\";\")\n",
        "dataset"
      ],
      "execution_count": null,
      "outputs": []
    },
    {
      "cell_type": "code",
      "metadata": {
        "id": "cPs8HPdryCgA"
      },
      "source": [
        "# Inicio da medição do tempo de CPU utilizado\n",
        "inicio  = time.time()"
      ],
      "execution_count": null,
      "outputs": []
    },
    {
      "cell_type": "code",
      "metadata": {
        "id": "Xzd6pIBAfp2X"
      },
      "source": [
        "# Definindo todas a rotas possiveis\n",
        "# retorna todas a permutacoes de rotas possiveis partindo do primeiro elemento que é o deposito\n",
        "# Acrescentamos o deposito no final para ajudar no calculo do retorno (Ex. pegar o valor de (4,1))\n",
        "# Neste momento já montamos as rotas atendendo a premissa que a mesma rota não passa no mesmo cliente duas vezes\n",
        "# Também evitamos a criação de subrotas\n",
        "def todas_rotas(seq, quantidade):\n",
        "  #permuta todas a opcoes com base na quantidade de destinos desejados. Fixamos o primeiro item como deposito de chegada e saida\n",
        "  return [[seq[0]] + list(rest) + [seq[0]] for rest in itertools.permutations(seq[1:],quantidade)]\n",
        "contador = 1\n",
        "Rotas = []\n",
        "#repito as permutacoes aumentando a quantidade de itens envolvidos\n",
        "while (contador < len(Pontos)):\n",
        "  Rotas = Rotas + todas_rotas(Pontos,contador) \n",
        "  contador   = contador + 1\n",
        "print('Quantidade: ' + str(len(Rotas)))\n",
        "Rotas"
      ],
      "execution_count": null,
      "outputs": []
    },
    {
      "cell_type": "code",
      "metadata": {
        "id": "7VaK-EKLjVJi"
      },
      "source": [
        "# Calculando o custo de cada rota\n",
        "# Recuperamos cada rota. De cada rota recuperamos o custo de cada trecho, somamos os trechos\n",
        "# de forma a encontrar o custo total da rota\n",
        "# o resultado vai para um dicionario que tem a rota e a somatoria dos trechos.\n",
        "\n",
        "def custo_da_rota(rota):\n",
        "    resultado = 0\n",
        "    print(rota)\n",
        "    for i in range(0,len(rota)-1):\n",
        "      teste = dataset.loc[dataset['trechos'] == str((rota[i], rota[i+1]))].to_dict('index')\n",
        "      resultado=resultado+ list(teste.values())[0].get('custo')\n",
        "    return resultado\n",
        "\n",
        "lista_custos={}\n",
        "i=0\n",
        "for rota in Rotas:\n",
        "    curso_rota = custo_da_rota(rota)\n",
        "    lista_custos[i]=(rota,curso_rota)\n",
        "    i = i +1 \n",
        "print('Quantidade: ' + str(len(lista_custos)))\n",
        " \n",
        "lista_custos"
      ],
      "execution_count": null,
      "outputs": []
    },
    {
      "cell_type": "code",
      "metadata": {
        "id": "GD9uRrSB26_y"
      },
      "source": [
        "# Filtragem da premissa que um cliente não pode ser atendido mais de uma vez\n",
        "def verificaSeClienteAtendidoApenasUmaVez(rota_para_restricao):\n",
        "  inclui_rota = True\n",
        "  lista_rotas_temp = rota_para_restricao[0][0]+rota_para_restricao[1][0]\n",
        "  for cliente in Clientes:\n",
        "    if(lista_rotas_temp.count(cliente)>1):\n",
        "        inclui_rota = False\n",
        "        break;\n",
        "  return inclui_rota\n"
      ],
      "execution_count": null,
      "outputs": []
    },
    {
      "cell_type": "code",
      "metadata": {
        "id": "KCovYAFJRo-q"
      },
      "source": [
        "# Filtragem da premissa que todos os clientes devem ser atendidos\n",
        "def verificaSeTodosOsPontosAtendidos(rota_para_restricao):\n",
        "  inclui_rota = True\n",
        "  lista_rotas_temp = rota_para_restricao[0][0]+rota_para_restricao[1][0]\n",
        "  for cliente in Clientes:\n",
        "    if(lista_rotas_temp.count(cliente)==0):\n",
        "        inclui_rota = False\n",
        "        break;\n",
        "  return inclui_rota"
      ],
      "execution_count": null,
      "outputs": []
    },
    {
      "cell_type": "code",
      "metadata": {
        "id": "r-5OwsE7btj-"
      },
      "source": [
        "# Cruza todas as rotas possiveis para os dois veiculos\n",
        "# Convencionamos que a primeira rota para veiculo 1 e a segunda para o veiculo 2\n",
        "# aplicando verificas para futuramente calcular apenas as rotas que nao desobedecem \n",
        "# alguma das premissas: Cliente atendido apenas uma vez e todos os clientes atendidos\n",
        "lista_rotas_combinada={}\n",
        "i=0\n",
        "for rota_combinada in itertools.combinations(lista_custos.values(),2):\n",
        "  if(verificaSeClienteAtendidoApenasUmaVez(rota_combinada) and verificaSeTodosOsPontosAtendidos(rota_combinada)):\n",
        "    lista_rotas_combinada[i] = rota_combinada\n",
        "  i = i+1\n",
        "print('Quantidade: ' + str(len(lista_rotas_combinada)))\n",
        "lista_rotas_combinada"
      ],
      "execution_count": null,
      "outputs": []
    },
    {
      "cell_type": "code",
      "metadata": {
        "id": "oITVUHl0x-to"
      },
      "source": [
        "#Calcula o custo total da combinação das duas rotas\n",
        "# é somado o custo de cada rota e armazenado o valor total\n",
        "lista_rotas_combinada_custo={}\n",
        "i=0\n",
        "for rota_para_calculo in lista_rotas_combinada.values():\n",
        "  lista_rotas_combinada_custo[i]= (rota_para_calculo,rota_para_calculo[0][1]+rota_para_calculo[1][1])\n",
        "  i = i+1\n",
        "print('Quantidade: ' + str(len(lista_rotas_combinada_custo)))\n",
        "lista_rotas_combinada_custo"
      ],
      "execution_count": null,
      "outputs": []
    },
    {
      "cell_type": "code",
      "metadata": {
        "id": "6PcjFwKOzonK"
      },
      "source": [
        "def registrar_log_execucao():\n",
        "  conteudo = ''\n",
        "  with open('/content/drive/MyDrive/DADOS_VRP/LOG_EXECUCAO/Forca-bruta-log.txt','r') as arq:\n",
        "      conteudo = arq.read() \n",
        "  with open('/content/drive/MyDrive/DADOS_VRP/LOG_EXECUCAO/Forca-bruta-log.txt', 'a') as testwritefile:\n",
        "      testwritefile.write('\\n --------Inicio: ' + time.strftime('%d/%m/%Y %H:%M:%S') + '--------')\n",
        "      testwritefile.write('\\n INICIO='+str(inicio)+'; FIM='+ str(fim)+'; TOTAL='+str(fim-inicio)) \n",
        "      testwritefile.write('\\n Solucao:' + str(lista_rotas_calculo_menor_custo) )   \n",
        "      testwritefile.write('\\n --------Fim: ' + time.strftime('%d/%m/%Y %H:%M:%S') + '--------')"
      ],
      "execution_count": null,
      "outputs": []
    },
    {
      "cell_type": "code",
      "metadata": {
        "id": "NJp61X4k3r96"
      },
      "source": [
        "#Identificar combinação de rotas de menor custo\n",
        "#Verifica cada rota buscando separar a de menor custo\n",
        "i=0\n",
        "lista_rotas_calculo_menor_custo={}\n",
        "valor_menor_custo= 0\n",
        "for rota_para_restricao in lista_rotas_combinada_custo.items():\n",
        "  #print(type(rota_para_restricao));\n",
        "  if not valor_menor_custo:\n",
        "    valor_menor_custo = rota_para_restricao[1][1]\n",
        "  elif rota_para_restricao[1][1] < valor_menor_custo:\n",
        "    valor_menor_custo = rota_para_restricao[1][1]\n",
        "indice_novo = 1\n",
        "for rota_para_restricao in lista_rotas_combinada_custo.items():\n",
        "  if rota_para_restricao[1][1] == valor_menor_custo:\n",
        "    lista_rotas_calculo_menor_custo[indice_novo]= rota_para_restricao\n",
        "  indice_novo = indice_novo+1\n",
        "print('Quantidade: ' + str(len(lista_rotas_calculo_menor_custo)))\n",
        "print(lista_rotas_calculo_menor_custo)\n",
        "#return lista_rotas_calculo_menor_custo\n",
        "fim  = time.time()\n",
        "registrar_log_execucao()"
      ],
      "execution_count": null,
      "outputs": []
    }
  ]
}